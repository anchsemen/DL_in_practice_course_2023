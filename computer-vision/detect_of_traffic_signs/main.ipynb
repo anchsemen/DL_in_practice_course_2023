{
  "cells": [
    {
      "cell_type": "code",
      "execution_count": null,
      "metadata": {
        "id": "asOXIfs56UBo"
      },
      "outputs": [],
      "source": [
        "!pip install roboflow\n",
        "%pip install ultralytics\n",
        "!pip install wandb\n",
        "!pip install pyyaml"
      ]
    },
    {
      "cell_type": "code",
      "execution_count": null,
      "metadata": {
        "colab": {
          "background_save": true
        },
        "id": "x2g0qZeHF4b1"
      },
      "outputs": [],
      "source": [
        "from ultralytics import YOLO\n",
        "from roboflow import Roboflow\n",
        "import os\n",
        "from google.colab import drive\n",
        "import shutil\n",
        "import wandb\n",
        "import yaml\n",
        "import torch\n",
        "\n",
        "wandb.login(key=\"YOUR_KEY\")"
      ]
    },
    {
      "cell_type": "markdown",
      "metadata": {
        "id": "uig7k2JoGc-b"
      },
      "source": [
        "#Upload Dataset\n",
        "\n"
      ]
    },
    {
      "cell_type": "code",
      "execution_count": null,
      "metadata": {
        "colab": {
          "background_save": true
        },
        "id": "5Kctd-biF55B"
      },
      "outputs": [],
      "source": [
        "rf = Roboflow(api_key=\"YOUR_KEY\")\n",
        "project = rf.workspace(\"mguogareva\").project(\"russian-traffic-signs-recognition\")\n",
        "dataset = project.version(3).download(\"yolov8\")"
      ]
    },
    {
      "cell_type": "code",
      "execution_count": null,
      "metadata": {
        "colab": {
          "background_save": true
        },
        "id": "HEdlKuorKf4A"
      },
      "outputs": [],
      "source": [
        "yaml_file_path = '/content/russian-traffic-signs-recognition-3/data.yaml'\n",
        "with open(yaml_file_path, 'r') as file:\n",
        "    data = yaml.safe_load(file)\n",
        "\n",
        "data['test'] = '/content/russian-traffic-signs-recognition-3/test/images'\n",
        "data['train'] = '/content/russian-traffic-signs-recognition-3/train/images'\n",
        "data['val'] = '/content/russian-traffic-signs-recognition-3/valid/images'\n",
        "\n",
        "with open(yaml_file_path, 'w') as file:\n",
        "    yaml.dump(data, file)"
      ]
    },
    {
      "cell_type": "markdown",
      "source": [
        "# Возможные оптимизаторы:\n"
      ],
      "metadata": {
        "id": "e8GmciNb5bGW"
      }
    },
    {
      "cell_type": "markdown",
      "source": [
        "\n",
        "\n",
        "1. SGD\n",
        "2. Adam\n",
        "3. Adamax\n",
        "4. AdamW\n",
        "5. NAdam\n",
        "6. RAdam\n",
        "7. RMSProp\n",
        "\n"
      ],
      "metadata": {
        "id": "mpVocEbq4Nfa"
      }
    },
    {
      "cell_type": "markdown",
      "source": [
        "Результатом будет видео, которое будет находиться runs/detect/detect_.../test_video.avi"
      ],
      "metadata": {
        "id": "QxWwaohx46i0"
      }
    },
    {
      "cell_type": "markdown",
      "metadata": {
        "id": "bqaWTV9tHNOR"
      },
      "source": [
        "#YOLOv8n"
      ]
    },
    {
      "cell_type": "markdown",
      "metadata": {
        "id": "XK7RIFAapAb0"
      },
      "source": [
        "##imgsz=640"
      ]
    },
    {
      "cell_type": "code",
      "execution_count": null,
      "metadata": {
        "id": "bzEC14fyF7Mk"
      },
      "outputs": [],
      "source": [
        "!yolo task=detect mode=train model=yolov8n.pt data={dataset.location}/data.yaml epochs=30 optimizer='NAdam' imgsz=640 device={'cuda' if torch.cuda.is_available() else 'cpu'} seed=42 name=train_nano_640 batch=8\n",
        "!yolo task=detect mode=predict model=/content/runs/detect/train_nano_640/weights/best.pt source=/content/test_video.mp4 show=True name=detect_nano_640 show_labels=True imgsz=640"
      ]
    },
    {
      "cell_type": "markdown",
      "metadata": {
        "id": "H9w6g916qFlm"
      },
      "source": [
        "## imgsz=1280"
      ]
    },
    {
      "cell_type": "code",
      "execution_count": null,
      "metadata": {
        "id": "L8RvNtBXF85e"
      },
      "outputs": [],
      "source": [
        "!yolo task=detect mode=train model=yolov8n.pt data={dataset.location}/data.yaml epochs=30 imgsz=1280 optimizer='SGD' device={'cuda' if torch.cuda.is_available() else 'cpu'} seed=42 name=train_nano_1280 batch=8\n",
        "!yolo task=detect mode=predict model=/content/runs/detect/train_nano_1280/weights/best.pt source=/content/test_video.mp4 show=True name=detect_nano_1280 show_labels=True imgsz=1280"
      ]
    },
    {
      "cell_type": "markdown",
      "metadata": {
        "id": "zFLY2flwHSAV"
      },
      "source": [
        "#YOLOv8s"
      ]
    },
    {
      "cell_type": "markdown",
      "metadata": {
        "id": "SuNiGmsHsj12"
      },
      "source": [
        "##imgsz=640"
      ]
    },
    {
      "cell_type": "code",
      "execution_count": null,
      "metadata": {
        "id": "zEYkZ1JhHRne"
      },
      "outputs": [],
      "source": [
        "!yolo task=detect mode=train model=yolov8s.pt data={dataset.location}/data.yaml epochs=30 imgsz=640 device={'cuda' if torch.cuda.is_available() else 'cpu'} seed=42 name=train_small_640 batch=8\n",
        "!yolo task=detect mode=predict model=/content/runs/detect/train_small_640/weights/best.pt source=/content/test_video.mp4 show=True name=detect_small_640 show_labels=True imgsz=640"
      ]
    },
    {
      "cell_type": "markdown",
      "metadata": {
        "id": "rWbqPkmKsn_I"
      },
      "source": [
        "## imgsz=1280"
      ]
    },
    {
      "cell_type": "code",
      "execution_count": null,
      "metadata": {
        "id": "GI0vxF-lrQHV"
      },
      "outputs": [],
      "source": [
        "!yolo task=detect mode=train model=yolov8s.pt data={dataset.location}/data.yaml epochs=30 imgsz=1280 optimizer='SGD' device={'cuda' if torch.cuda.is_available() else 'cpu'} seed=42 name=train_small_1280 batch=8\n",
        "!yolo task=detect mode=predict model=/content/runs/detect/train_small_1280/weights/best.pt source=/content/test_video.mp4 show=True name=detect_small_1280 show_labels=True imgsz=1280"
      ]
    },
    {
      "cell_type": "markdown",
      "metadata": {
        "id": "L9DyHERIHznV"
      },
      "source": [
        "#YOLOv8m"
      ]
    },
    {
      "cell_type": "markdown",
      "metadata": {
        "id": "O1_lmYi0slI6"
      },
      "source": [
        "##imgsz=640"
      ]
    },
    {
      "cell_type": "code",
      "execution_count": null,
      "metadata": {
        "id": "zFM2lnlEH4wO"
      },
      "outputs": [],
      "source": [
        "!yolo task=detect mode=train model=yolov8m.pt data={dataset.location}/data.yaml epochs=30 optimizer='NAdam' imgsz=640 device={'cuda' if torch.cuda.is_available() else 'cpu'} seed=42 name=train_medium_640 batch=8\n",
        "!yolo task=detect mode=predict model=/content/runs/detect/train_medium_640/weights/best.pt source=/content/test_video.mp4 show=True name=detect_medium_640 show_labels=True imgsz=640"
      ]
    },
    {
      "cell_type": "markdown",
      "metadata": {
        "id": "HU-hBaKFsoY2"
      },
      "source": [
        "## imgsz=1280"
      ]
    },
    {
      "cell_type": "code",
      "execution_count": null,
      "metadata": {
        "id": "Yp4iy6ODrvmt"
      },
      "outputs": [],
      "source": [
        "!yolo task=detect mode=train model=yolov8m.pt data={dataset.location}/data.yaml epochs=30 imgsz=1280 device={'cuda' if torch.cuda.is_available() else 'cpu'} seed=42 name=train_medium_1280 batch=8\n",
        "!yolo task=detect mode=predict model=/content/runs/detect/train_medium_1280/weights/best.pt source=/content/test_video.mp4 show=True name=detect_medium_1280 show_labels=True imgsz=1280"
      ]
    },
    {
      "cell_type": "markdown",
      "metadata": {
        "id": "OyUoWEnzLkbU"
      },
      "source": [
        "# TensorBoard"
      ]
    },
    {
      "cell_type": "code",
      "execution_count": null,
      "metadata": {
        "id": "_hIYRwG5I3Bm"
      },
      "outputs": [],
      "source": [
        "%load_ext tensorboard\n",
        "%tensorboard --logdir ."
      ]
    }
  ],
  "metadata": {
    "accelerator": "GPU",
    "colab": {
      "collapsed_sections": [
        "OyUoWEnzLkbU"
      ],
      "provenance": []
    },
    "kernelspec": {
      "display_name": "Python 3",
      "name": "python3"
    },
    "language_info": {
      "name": "python"
    }
  },
  "nbformat": 4,
  "nbformat_minor": 0
}